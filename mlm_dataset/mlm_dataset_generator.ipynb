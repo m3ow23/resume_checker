{
 "cells": [
  {
   "cell_type": "code",
   "execution_count": 4,
   "metadata": {},
   "outputs": [
    {
     "name": "stdout",
     "output_type": "stream",
     "text": [
      "                                                                                                                                                                                                                                                                                                                                                                                                                                                                                                                                                                                                                                                                                                                                                                                                                                                                                                                                                                                                                                Resume_str\n",
      "0           HR ADMINISTRATOR/MARKETING ASSOCIATE\\n\\nHR ADMINISTRATOR       Summary     Dedicated Customer Service Manager with 15+ years of experience in Hospitality and Customer Service Management.   Respected builder and leader of customer-focused teams; strives to instill a shared, enthusiastic commitment to customer service.         Highlights         Focused on customer satisfaction  Team management  Marketing savvy  Conflict resolution techniques     Training and development  Skilled multi-tasker  Client relations specialist           Accomplishments      Missouri DOT Supervisor Training Certification  Certified by IHG in Customer Loyalty and Marketing by Segment   Hilton Worldwide General Manager Training Certification  Accomplished Trainer for cross server hospitality systems such as    Hilton OnQ  ,   Micros    Opera PMS   , Fidelio    OPERA    Reservation System (ORS) ,   Holidex    Completed courses and seminars in customer service, sales strategies, inventory control, loss...\n",
      "1           HR SPECIALIST, US HR OPERATIONS       Summary     Versatile  media professional with background in Communications, Marketing, Human Resources and Technology.         Experience     09/2015   to   Current     HR Specialist, US HR Operations    Company Name   －   City  ,   State       Managed communication regarding launch of Operations group, policy changes and system outages      Designed standard work and job aids to create comprehensive training program for new employees and contractors         Audited job postings for old, pending, on-hold and draft positions.           Audited union hourly, non-union hourly and salary background checks and drug screens             Conducted monthly new hire benefits briefing to new employees across all business units               Served as a link between HR Managers and vendors by handling questions and resolving system-related issues         Provide real-time process improvement feedback on key metrics and initiatives  Successfully r...\n",
      "2           HR DIRECTOR       Summary      Over 20 years experience in recruiting,   15 plus years in Human Resources Executive Management,   5 years of HRIS development and maintenance  4 years working in a Healthcare Enviroment        Skills          Recruiting  FMLA/EEO/FLSA   HRIS Development      Benefit Administration  Policy Development  Web Page Development             Accomplishments      Kansas Health Institute -Health Outcomes for the State of Kansas -1999 \\nMemberships and Accolades: Project Management Institute Member, SHRM, Chamber of Commerce, 1999 Friends University President's Honor Roll, 1997 Friends University Dean's Honor Roll, Student Liaison for Friends University Topeka (member of Mother-To-Mother, member of the Topeka \\nAdvertising Federation, several production pieces created nominated for ADDY Awards, received recognition for outstanding customer service assistance by the State of Kansas Travel and Tourism Department., ASHHRA, KAHHR, ACM.  Additional Informat...\n",
      "3           HR SPECIALIST       Summary    Dedicated, Driven, and Dynamic with over 20 years of customer service expertise. Motivated to maintain customer satisfaction and contribute to company success with an emphasis in personnel and process management. Solid team player with proven ability to establish rapport with clients.       Skills          Type 50 wpm and 10-Key by touch  Microsoft programs Word, Excel, Access, Outlook, PowerPoint  Personnel management  and Telephone inquiries specialist      Excellent customer service skills with call quality and customer satisfaction as primary focus.  Inbound and Outbound contact center experience  Excellent oral and written presentation and seasoned in conflict resolution             Experience      Hr Specialist     May 2007   to   Oct 2008      Company Name   －   City  ,   State     Accenture Peopleline Email Management Team.  Received inbound emails from clients as initial point of contact to answer questions related to HR policies, pr...\n",
      "4           HR MANAGER         Skill Highlights           HR SKILLS  HR Department Startup  Three New Organization Startups  Employment Law  FMLA/ADA/EEO/WC  Mediation & Advocacy  HR Policies & Procedures\\t*Staff Recruitment & Retention  Salary Negotiations  Employee Relations  Benefits Administration  Unemployment Administration  Worker's Compensation Administration  Orientation & On-Boarding  HRIS Technologies  Training & Development  Performance Management  Organizational Development  HR Program/Project Management  HRIS applications (Lawson, Paychex, Kronos, ADP)  MS Office (Word, Excel, PowerPoint, Publisher, Access, Visio, Outlook)                Professional Experience      HR Manager     Jan 2015   to   Current      Company Name   －   City  ,   State     Manage the Human Resource function for e-Cycle's corporate office as well as their fulfillment and data center, consisting of benefits and compensation administration, payroll, employee relations, policy compliance, and recruit...\n",
      "5           HR GENERALIST       Summary     Dedicated and focused Administrative Assistant who excels at prioritizing, completing multiple tasks simultaneously and following through to achieve project goals. Seeking a role of increased responsibility and authority.       Highlights         Microsoft Office proficiency  Excel spreadsheets  Meticulous attention to detail  Results-oriented  Self-directed      Time management  Professional and mature  Self-starter  Legal administrative support            Experience     11/2008   to   08/2014     HR Generalist    Company Name   －   City  ,   State      Managed visa related employment processes for all non-immigrant faculty and staff.  Improved productivity and enhanced visa related services.  Improved operational structure by developing guidelines and tools for internal and external administration of non-immigrant employment procedures  Reduced internal employment authorization processing times by approximately 30 percent.  Prepared, revie...\n",
      "6           HR MANAGER       Summary    HUMAN RESOURCES MANAGER Extensive background in administrative duties, including experience in implementing staff development and training, mediation, conflict resolution, benefits and compensation training, HR records management, HR policies development and legal compliance.\\n*Demonstrated success in, developing teambuilding programs, and writing personnel manuals, coordinating special programs, job descriptions and online State Mandated Training.      Highlights          University Events/Special Programs  Prepare Agendas  FMLA/ADA/EEO/WC  Mediation & Advocacy  HRIS Technologies\\tTESOL Teacher for University staff  Employee Relations  Web Design using RedDot and Sharepoint  HR Program/Project Management  Microsoft Office Suites\\tOrientation & On-Boarding  Training & Development  Performance Management  Organizational Development  HR Policies & Procedures  Publisher/InDesign/Quark              Accomplishments      Enjoy 5k Runs/Walks OF NOTE Pr...\n",
      "7           HR MANAGER         Professional Summary    Senior HR professional with a continuous improvement approach to building and supporting organizations.  Driven HR Manager bringing an innovative approach to human resource management while creating a team-driven environment that fosters room for development and growth. Dedicated HR professional with strong grasp of employment laws, compliance issues and benefits plans. Successfully introduces process improvements and staff-development initiatives to drive corporate goal attainment. Creative Business Partner dedicated to developing unique employee orientation and training programs that will generate a loyal and knowledgeable staff.       Skills    administrative, ADP, backup, Benefits, bookkeeping, clarify, competitive, customer service, database, delivery, documentation, employee relations, filing, government, HR, human resources, human resource, insurance, job analysis, labor\\nrelations, law enforcement, Team building, letters, ...\n",
      "8           HR SPECIALIST       Summary    Possess 15+ years of experience as an HR Classification/Compensation Lead and as an HR Specialist, Recruitment. Managed recruitment efforts that included qualifying candidates based on documented knowledge, skills, and abilities to match organizational resource needs. Ensured candidate fulfillment of the preemployment process; i.e., background checks, drug screens, and reference checks. Developed and implemented competency and skill-based pay programs for a variety of occupations including medical (nurses), mechanical (machine operators), and civil engineers. Led a statewide review of jobs (18,000 employees) toward determining appropriate FLSA designations (e.g., executive, administrative, computer-related, creative). Provided executive and middle management consultation toward acquiring class/levels and roles necessary to accomplish departmental goals and objectives that resulted in mission successes. Training and Development: Eight years of...\n",
      "9           HR CLERK       Summary    Translates business vision into HR initiatives that improve performance, profitability, growth, and employee engagement. Developing, improving and managing HR strategies in benefits and compensation, employee recruitment and development, ethics and corporate social responsibility, diversity, safety and security, and business strategy.  Worked with continuous improvement programs in connection to development of Lean and Six Sigma strategy programs.       Highlights          New Employee Orientation  Applicant Tracking System  Onboarding  Payroll Management includes timekeeper for Kronos Timekeeping System  Compensation and Benefits   Performance Management      Workers Compensation  General Ledger Accounting   Database Management  Continuous Improvement  Six Sigma  Lean Manufacturing  Business Strategy            Experience     02/2016   to   Current     HR Clerk    Company Name   －   City  ,   State      Coordinate and oversea recruitment and orie...\n"
     ]
    }
   ],
   "source": [
    "import pandas as pd\n",
    "import re\n",
    "\n",
    "# import dataset \n",
    "dataset = pd.read_csv('../dataset/resume_dataset.csv')\n",
    "\n",
    "# drop unecessary columns\n",
    "dataset = dataset.drop(columns=['ID', 'Resume_html', 'Category'])\n",
    "\n",
    "# set settings for printing\n",
    "pd.set_option('display.max_rows', None)\n",
    "pd.set_option('display.max_columns', None)\n",
    "pd.set_option('display.max_colwidth', 1000)\n",
    "\n",
    "print(dataset[:10])"
   ]
  },
  {
   "cell_type": "code",
   "execution_count": 47,
   "metadata": {},
   "outputs": [
    {
     "name": "stdout",
     "output_type": "stream",
     "text": [
      "Empty DataFrame\n",
      "Columns: [Resume_str]\n",
      "Index: []\n"
     ]
    }
   ],
   "source": [
    "# check for missing values in each row\n",
    "missing_values_per_row = dataset.isnull().any(axis=1)\n",
    "\n",
    "# display rows with missing values\n",
    "rows_with_missing_values = dataset[missing_values_per_row]\n",
    "print(rows_with_missing_values)"
   ]
  },
  {
   "cell_type": "code",
   "execution_count": 48,
   "metadata": {},
   "outputs": [
    {
     "name": "stdout",
     "output_type": "stream",
     "text": [
      "['']\n",
      "['HR ADMINISTRATOR/MARKETING ASSOCIATE']\n",
      "['HR ADMINISTRATOR']\n",
      "['Summary']\n",
      "['Dedicated Customer Service Manager with 15+ years of experience in Hospitality and Customer Service Management.']\n",
      "['Respected builder and leader of customer-focused teams; strives to instill a shared, enthusiastic commitment to customer service.']\n",
      "['Highlights']\n",
      "['Focused on customer satisfaction']\n",
      "['Team management']\n",
      "['Marketing savvy']\n"
     ]
    }
   ],
   "source": [
    "segmented_sentence_dataset = []\n",
    "\n",
    "# iterate over all resumes\n",
    "for resume in dataset['Resume_str']:\n",
    "   # split the text when there is two or more spaces between\n",
    "   segmented_sentence_dataset += (re.split(r'\\s\\s+', resume))\n",
    "\n",
    "for sentence in segmented_sentence_dataset[:10]:\n",
    "   print([sentence])"
   ]
  },
  {
   "cell_type": "code",
   "execution_count": 49,
   "metadata": {},
   "outputs": [],
   "source": [
    "cleaned_sentence_dataset = []\n",
    "\n",
    "for sentence in segmented_sentence_dataset:\n",
    "    # convert item names to lowercase\n",
    "    sentence = sentence.lower()\n",
    "\n",
    "    # substitute year to [YEAR] token\n",
    "    sentence = re.sub(r\"(20\\d\\d|19\\d\\d)\", '[YEAR]', sentence)\n",
    "\n",
    "    # substitute numbers to [NUMBER] token\n",
    "    sentence = re.sub(r\"\\d+\\.?\\d*\\+?\", '[NUMBER]', sentence)\n",
    "    \n",
    "    # remove special characters (e.g., punctuations)\n",
    "    special_characters = r\"[!\\\"#$%&()*+,/:;<=>?@^_{|}~•·]\"\n",
    "    sentence = re.sub(special_characters, ' ', sentence)\n",
    "    new_sentence = []\n",
    "    for word in sentence.split(' '):\n",
    "        if (re.search(r\"[\\.\\-]\", word)):\n",
    "            # handler of abbreviations that use '.' (e.g., B.S.)\n",
    "            if (re.search(r\"^[^\\.]+\\.$|^.$\", word)):\n",
    "                word = re.sub(r\"\\.\", ' ', word)\n",
    "            # handler of misplaced '-' and avoid removing '-' for hypenated words (e.g., Mother-in-law)\n",
    "            if (re.search(r\"[^\\s]+-[^\\s]+\", word) == None):\n",
    "                word = re.sub(r\"-\", ' ', word)\n",
    "        new_sentence.append(word)\n",
    "    sentence = ' '.join(new_sentence)\n",
    "\n",
    "    # remove white spaces\n",
    "    sentence = ' '.join(sentence.split())\n",
    "\n",
    "    # explicit removal of observed noise words\n",
    "    noise_words = ['n a', 'company name']\n",
    "    if (sentence in noise_words):\n",
    "        sentence = ''\n",
    "\n",
    "    cleaned_sentence_dataset.append(sentence)\n",
    "\n",
    "# for sentence in cleaned_sentence_dataset[:10]:\n",
    "#    print([sentence])\n",
    "\n"
   ]
  },
  {
   "cell_type": "code",
   "execution_count": 50,
   "metadata": {},
   "outputs": [
    {
     "name": "stdout",
     "output_type": "stream",
     "text": [
      "['hr administrator marketing associate']\n",
      "['hr administrator']\n",
      "['dedicated customer service manager with [NUMBER] years of experience in hospitality and customer service management']\n",
      "['respected builder and leader of customer-focused teams strives to instill a shared enthusiastic commitment to customer service']\n",
      "['focused on customer satisfaction']\n",
      "['team management']\n",
      "['marketing savvy']\n",
      "['conflict resolution techniques']\n",
      "['training and development']\n",
      "['skilled multi-tasker']\n"
     ]
    }
   ],
   "source": [
    "sentence_dataset = []\n",
    "\n",
    "# remove data with less than 2 words\n",
    "for sentence in cleaned_sentence_dataset:\n",
    "    if (sentence.strip() != '' \n",
    "            and len(sentence.split(' ')) > 1\n",
    "            and not re.search(r\"\\[YEAR\\]\", sentence)):\n",
    "        sentence_dataset.append(sentence)\n",
    "\n",
    "for sentence in sentence_dataset[:10]:\n",
    "   print([sentence])"
   ]
  }
 ],
 "metadata": {
  "kernelspec": {
   "display_name": "Python 3",
   "language": "python",
   "name": "python3"
  },
  "language_info": {
   "codemirror_mode": {
    "name": "ipython",
    "version": 3
   },
   "file_extension": ".py",
   "mimetype": "text/x-python",
   "name": "python",
   "nbconvert_exporter": "python",
   "pygments_lexer": "ipython3",
   "version": "3.9.13"
  },
  "orig_nbformat": 4
 },
 "nbformat": 4,
 "nbformat_minor": 2
}
